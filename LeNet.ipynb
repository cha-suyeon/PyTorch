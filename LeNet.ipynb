{
  "nbformat": 4,
  "nbformat_minor": 0,
  "metadata": {
    "colab": {
      "name": "LeNet_2",
      "provenance": [],
      "collapsed_sections": [
        "Bkcw46U7roB5"
      ]
    },
    "kernelspec": {
      "name": "python3",
      "display_name": "Python 3"
    },
    "language_info": {
      "name": "python"
    }
  },
  "cells": [
    {
      "cell_type": "markdown",
      "source": [
        "## 2차 목표\n",
        "\n",
        "1. Github private repo 만들고 branch 생성\n",
        "2. `model.train()`, `model.eval()` 정리\n",
        "  - 써야하는 이유\n",
        "  - 써야하는 위치\n",
        "3. epcoh별 loss, acc 찍히게 만들어보기\n",
        "  - accuracy 계산 참고 -> https://deep-learning-study.tistory.com/368\n",
        "4. valid acc 수렴할 때까지 학습 충분히 시키기\n",
        "5. submission 제출해서 점수 올리기 "
      ],
      "metadata": {
        "id": "SDzj_bqSyd8X"
      }
    },
    {
      "cell_type": "markdown",
      "source": [
        "## PyTorch on MNIST by LeNet\n",
        "\n",
        "1. import libraries\n",
        "2. check cuda\n",
        "3. load data\n",
        "4. split train, val and test\n",
        "5. define\n",
        "  - LeNet (layer, forward, ...)\n",
        "  - loss function, optimizer\n",
        "  - Train, eval and test\n"
      ],
      "metadata": {
        "id": "FRTa7YG7iWq8"
      }
    },
    {
      "cell_type": "code",
      "source": [
        "from google.colab import drive\n",
        "drive.mount('/content/drive')"
      ],
      "metadata": {
        "colab": {
          "base_uri": "https://localhost:8080/"
        },
        "id": "Ib9o4IVKmw0_",
        "outputId": "06d63856-8ee5-4c49-a993-9d2b892328b5"
      },
      "execution_count": 1,
      "outputs": [
        {
          "output_type": "stream",
          "name": "stdout",
          "text": [
            "Drive already mounted at /content/drive; to attempt to forcibly remount, call drive.mount(\"/content/drive\", force_remount=True).\n"
          ]
        }
      ]
    },
    {
      "cell_type": "code",
      "source": [
        "import numpy as np\n",
        "import pandas as pd\n",
        "import matplotlib.pyplot as plt\n",
        "\n",
        "import os\n",
        "for dirname, _, filenames in os.walk('/content/drive/MyDrive/kaggle/MNIST'):\n",
        "  for filename in filenames:\n",
        "    print(os.path.join(dirname, filename))"
      ],
      "metadata": {
        "id": "ZIfvjDfFoHMH",
        "colab": {
          "base_uri": "https://localhost:8080/"
        },
        "outputId": "86449355-59f4-4933-b732-6c9dbbb84c8d"
      },
      "execution_count": 2,
      "outputs": [
        {
          "output_type": "stream",
          "name": "stdout",
          "text": [
            "/content/drive/MyDrive/kaggle/MNIST/train.csv\n",
            "/content/drive/MyDrive/kaggle/MNIST/test.csv\n",
            "/content/drive/MyDrive/kaggle/MNIST/sample_submission.csv\n",
            "/content/drive/MyDrive/kaggle/MNIST/LeNet.ipynb\n",
            "/content/drive/MyDrive/kaggle/MNIST/LeNet_1\n",
            "/content/drive/MyDrive/kaggle/MNIST/submission.csv\n",
            "/content/drive/MyDrive/kaggle/MNIST/LeNet_1의 사본\n"
          ]
        }
      ]
    },
    {
      "cell_type": "code",
      "source": [
        "import torch\n",
        "import torch.nn as nn\n",
        "from torchvision import transforms, models\n",
        "from torch.autograd import Variable\n",
        "from torch import nn, optim\n",
        "from torch.utils.data import DataLoader\n",
        "from sklearn.model_selection import train_test_split\n",
        "import torch.nn.functional as F"
      ],
      "metadata": {
        "id": "txfx7O5eorVf"
      },
      "execution_count": 3,
      "outputs": []
    },
    {
      "cell_type": "code",
      "source": [
        "torch.manual_seed(777)"
      ],
      "metadata": {
        "colab": {
          "base_uri": "https://localhost:8080/"
        },
        "id": "hp8jyGUrpU_e",
        "outputId": "4ac22822-5599-4be8-823a-82bfc1b4cb62"
      },
      "execution_count": 4,
      "outputs": [
        {
          "output_type": "execute_result",
          "data": {
            "text/plain": [
              "<torch._C.Generator at 0x7f3e97be7550>"
            ]
          },
          "metadata": {},
          "execution_count": 4
        }
      ]
    },
    {
      "cell_type": "code",
      "source": [
        "USE_CUDA = torch.cuda.is_available()\n",
        "device = torch.device('cuda' if USE_CUDA else \"cpu\")\n",
        "print(device)"
      ],
      "metadata": {
        "colab": {
          "base_uri": "https://localhost:8080/"
        },
        "id": "IzuF7rCMpZbI",
        "outputId": "169f7f47-b60a-45e8-e775-9ae4ed296c19"
      },
      "execution_count": 5,
      "outputs": [
        {
          "output_type": "stream",
          "name": "stdout",
          "text": [
            "cpu\n"
          ]
        }
      ]
    },
    {
      "cell_type": "code",
      "source": [
        "# Load data\n",
        "train = pd.read_csv(r\"/content/drive/MyDrive/kaggle/MNIST/train.csv\", dtype=np.float32)\n",
        "test = pd.read_csv(r\"/content/drive/MyDrive/kaggle/MNIST/test.csv\", dtype=np.float32)"
      ],
      "metadata": {
        "id": "ts31iU7bqb9G"
      },
      "execution_count": 6,
      "outputs": []
    },
    {
      "cell_type": "code",
      "source": [
        "print(len(train))\n",
        "print(len(test))"
      ],
      "metadata": {
        "colab": {
          "base_uri": "https://localhost:8080/"
        },
        "id": "0cn2KLug1Ehd",
        "outputId": "736762eb-8199-40ac-fe5f-7036d71dcc62"
      },
      "execution_count": 7,
      "outputs": [
        {
          "output_type": "stream",
          "name": "stdout",
          "text": [
            "42000\n",
            "28000\n"
          ]
        }
      ]
    },
    {
      "cell_type": "code",
      "source": [
        "# split data into X(pixels) and Y(numbers from 0 to 9)\n",
        "X = train.loc[:, train.columns != 'label'].values / 255\n",
        "Y = train.label.values"
      ],
      "metadata": {
        "id": "EjKy0GfAq1hY"
      },
      "execution_count": 8,
      "outputs": []
    },
    {
      "cell_type": "code",
      "source": [
        "print(type(X))\n",
        "print(type(Y))"
      ],
      "metadata": {
        "colab": {
          "base_uri": "https://localhost:8080/"
        },
        "id": "wpTlrPPBX0B5",
        "outputId": "ccbc08b8-6ace-4e3e-91bc-389ab1098167"
      },
      "execution_count": 9,
      "outputs": [
        {
          "output_type": "stream",
          "name": "stdout",
          "text": [
            "<class 'numpy.ndarray'>\n",
            "<class 'numpy.ndarray'>\n"
          ]
        }
      ]
    },
    {
      "cell_type": "code",
      "source": [
        "# train test split\n",
        "X_train, X_val, Y_train, Y_val = train_test_split(X, Y, test_size = 0.2, random_state = 42)"
      ],
      "metadata": {
        "id": "hkS6_VXbsMZG"
      },
      "execution_count": 10,
      "outputs": []
    },
    {
      "cell_type": "code",
      "source": [
        "print(X_train.shape)\n",
        "print(X_val.shape)\n",
        "print(Y_train.shape)\n",
        "print(Y_val.shape)"
      ],
      "metadata": {
        "colab": {
          "base_uri": "https://localhost:8080/"
        },
        "id": "BMN7ZMQjAkC6",
        "outputId": "ca630f47-da2d-45d0-bedc-d55a1a3b15d7"
      },
      "execution_count": 11,
      "outputs": [
        {
          "output_type": "stream",
          "name": "stdout",
          "text": [
            "(33600, 784)\n",
            "(8400, 784)\n",
            "(33600,)\n",
            "(8400,)\n"
          ]
        }
      ]
    },
    {
      "cell_type": "markdown",
      "source": [
        "- Create feature and targets tensor for train set. As you remember we need **variable** to accumulate gradients. Therefore first we *create tensor*, then we will *create variable*."
      ],
      "metadata": {
        "id": "NGsk6TEuxgfh"
      }
    },
    {
      "cell_type": "code",
      "source": [
        "# create X and Y tensor\n",
        "X_train = torch.from_numpy(X_train)\n",
        "Y_train = torch.from_numpy(Y_train).type(torch.LongTensor)  # data type is long\n",
        "\n",
        "X_val = torch.from_numpy(X_val)\n",
        "Y_val = torch.from_numpy(Y_val).type(torch.LongTensor) # data type is long"
      ],
      "metadata": {
        "id": "gwbOT9yhrNmd"
      },
      "execution_count": 12,
      "outputs": []
    },
    {
      "cell_type": "code",
      "source": [
        "print(type(X_train))\n",
        "print(type(X_val))\n",
        "print(type(Y_train))\n",
        "print(type(Y_val))"
      ],
      "metadata": {
        "colab": {
          "base_uri": "https://localhost:8080/"
        },
        "id": "353-gGrKYe4J",
        "outputId": "d7317b73-dd9a-441a-be23-4ca0b4973b2f"
      },
      "execution_count": 13,
      "outputs": [
        {
          "output_type": "stream",
          "name": "stdout",
          "text": [
            "<class 'torch.Tensor'>\n",
            "<class 'torch.Tensor'>\n",
            "<class 'torch.Tensor'>\n",
            "<class 'torch.Tensor'>\n"
          ]
        }
      ]
    },
    {
      "cell_type": "markdown",
      "source": [
        "error: `typeerror: expected np.ndarray (got tensor)`\n",
        "\n",
        "https://forum.jovian.ai/forum/t/typeerror-expected-np-ndarray-got-tensor/6100\n"
      ],
      "metadata": {
        "id": "irvTGWGutGh1"
      }
    },
    {
      "cell_type": "code",
      "source": [
        "# batch size, epoch and iteration\n",
        "batch_size =100\n",
        "epochs = 30"
      ],
      "metadata": {
        "id": "Nxjj8mC4sbm8"
      },
      "execution_count": 14,
      "outputs": []
    },
    {
      "cell_type": "code",
      "source": [
        "# Pytorch train and test sets\n",
        "train = torch.utils.data.TensorDataset(X_train, Y_train)\n",
        "validation = torch.utils.data.TensorDataset(X_val, Y_val)"
      ],
      "metadata": {
        "id": "DxOfeJLms1A3"
      },
      "execution_count": 15,
      "outputs": []
    },
    {
      "cell_type": "code",
      "source": [
        "# Data loader\n",
        "train_loader = DataLoader(train, batch_size = batch_size, shuffle = True)\n",
        "val_loader = DataLoader(validation, batch_size = batch_size, shuffle = True)\n",
        "# shuffle (bool, optional) – set to True to have the data reshuffled at every epoch (default: False)."
      ],
      "metadata": {
        "id": "rVx_iqlws32W"
      },
      "execution_count": 16,
      "outputs": []
    },
    {
      "cell_type": "code",
      "source": [
        "# sample 9 mnist digits from train dataset\n",
        "\n",
        "index = np.random.randint(0, X_train.shape[0], size=9)\n",
        "images = X_train[index]\n",
        "labels = Y_train[index]\n",
        "\n",
        "plt.figure(figsize=(3,3))\n",
        "\n",
        "for i in range(len(index)):\n",
        "  plt.subplot(3,3,i+1)\n",
        "  image = images[i].reshape(28,28)\n",
        "  plt.imshow(image, cmap='gray')\n",
        "  plt.axis('off')\n",
        "\n",
        "plt.show()"
      ],
      "metadata": {
        "colab": {
          "base_uri": "https://localhost:8080/",
          "height": 194
        },
        "id": "lO5bUhZ2ufE2",
        "outputId": "6de1e792-db78-4430-9667-18f79475a8ab"
      },
      "execution_count": 17,
      "outputs": [
        {
          "output_type": "display_data",
          "data": {
            "text/plain": [
              "<Figure size 216x216 with 9 Axes>"
            ],
            "image/png": "[encoded data removed]"
          },
          "metadata": {
            "needs_background": "light"
          }
        }
      ]
    },
    {
      "cell_type": "markdown",
      "source": [
        "## Model\n",
        "\n",
        "이거 LeNet을 짠거!"
      ],
      "metadata": {
        "id": "wmico5rIyYaa"
      }
    },
    {
      "cell_type": "markdown",
      "source": [
        "![image.png](data:image/png;base64,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)"
      ],
      "metadata": {
        "id": "BQunbvRywRHu"
      }
    },
    {
      "cell_type": "code",
      "source": [
        "class LeNet(nn.Module):\n",
        "  def __init__(self, num_classes):\n",
        "    super(LeNet, self).__init__()\n",
        "\n",
        "    # C1 (1,6,5)\n",
        "    self.conv1 = nn.Conv2d(in_channels=1, out_channels=6, kernel_size=5, stride=1, padding=2)\n",
        "    \n",
        "\n",
        "    # C2 (6, 16, 5)\n",
        "    self.conv2 = nn.Conv2d(in_channels=6, out_channels=16, kernel_size=5, stride=1, padding=0)\n",
        "    \n",
        "    # C3 (16, 120, 5)\n",
        "    self.conv3 = nn.Conv2d(in_channels=16, out_channels=120, kernel_size=5, stride=1, padding=0)\n",
        "    \n",
        "    # fc\n",
        "    self.fc1 = nn.Linear(120, 84)\n",
        "    self.fc2 = nn.Linear(84, 10)\n",
        "\n",
        "    # Connect layers, define activation function\n",
        "  def forward(self, x):\n",
        "     # Max pooling over a (2, 2) window\n",
        "     x = F.relu(self.conv1(x))\n",
        "     x = F.avg_pool2d(x, 2)\n",
        "\n",
        "     x = F.relu(self.conv2(x))\n",
        "     x = F.dropout(x, p=0.5, training=self.training)\n",
        "     x = F.avg_pool2d(x, 2)\n",
        "\n",
        "     x = F.relu(self.conv3(x))\n",
        "     x = F.dropout(x, p=0.5, training=self.training)\n",
        "     x = x.view(-1, 120)\n",
        "\n",
        "     x = F.relu(self.fc1(x))\n",
        "     x = self.fc2(x)\n",
        "\n",
        "     return F.softmax(x, dim=1)"
      ],
      "metadata": {
        "id": "3nOw2A4PxYiu"
      },
      "execution_count": 18,
      "outputs": []
    },
    {
      "cell_type": "code",
      "source": [
        "epochs = 15\n",
        "num_classes = 10"
      ],
      "metadata": {
        "id": "8iFVXGzo4Tuw"
      },
      "execution_count": 19,
      "outputs": []
    },
    {
      "cell_type": "code",
      "source": [
        "model = LeNet(num_classes).to(device)\n",
        "print(model)"
      ],
      "metadata": {
        "colab": {
          "base_uri": "https://localhost:8080/"
        },
        "id": "VeKncXuqJtSD",
        "outputId": "4fab4f36-c6e4-44c4-ffab-7d738f8d481a"
      },
      "execution_count": 20,
      "outputs": [
        {
          "output_type": "stream",
          "name": "stdout",
          "text": [
            "LeNet(\n",
            "  (conv1): Conv2d(1, 6, kernel_size=(5, 5), stride=(1, 1), padding=(2, 2))\n",
            "  (conv2): Conv2d(6, 16, kernel_size=(5, 5), stride=(1, 1))\n",
            "  (conv3): Conv2d(16, 120, kernel_size=(5, 5), stride=(1, 1))\n",
            "  (fc1): Linear(in_features=120, out_features=84, bias=True)\n",
            "  (fc2): Linear(in_features=84, out_features=10, bias=True)\n",
            ")\n"
          ]
        }
      ]
    },
    {
      "cell_type": "code",
      "source": [
        "input = torch.randn(1, 32, 32)\n",
        "model(input)"
      ],
      "metadata": {
        "colab": {
          "base_uri": "https://localhost:8080/"
        },
        "id": "75Hgx4vRLDMg",
        "outputId": "256fc698-c7e5-4e71-8ac7-c6ae0eba466d"
      },
      "execution_count": 21,
      "outputs": [
        {
          "output_type": "execute_result",
          "data": {
            "text/plain": [
              "tensor([[0.0895, 0.1000, 0.0943, 0.1118, 0.0925, 0.1015, 0.0971, 0.1045, 0.1057,\n",
              "         0.1032],\n",
              "        [0.0941, 0.1023, 0.0973, 0.1091, 0.0981, 0.0970, 0.0969, 0.0969, 0.1098,\n",
              "         0.0985],\n",
              "        [0.0917, 0.0991, 0.0978, 0.1128, 0.0934, 0.1018, 0.0986, 0.1038, 0.1023,\n",
              "         0.0987],\n",
              "        [0.0919, 0.1000, 0.0964, 0.1165, 0.0941, 0.1007, 0.0949, 0.1062, 0.1006,\n",
              "         0.0987]], grad_fn=<SoftmaxBackward0>)"
            ]
          },
          "metadata": {},
          "execution_count": 21
        }
      ]
    },
    {
      "cell_type": "code",
      "source": [
        "from torchsummary import summary\n",
        "summary(model, input_size=(1, 32, 32))"
      ],
      "metadata": {
        "colab": {
          "base_uri": "https://localhost:8080/"
        },
        "id": "bDP40Irg1FpS",
        "outputId": "b7b1fe42-5742-418e-8729-cd734fb81ff8"
      },
      "execution_count": 22,
      "outputs": [
        {
          "output_type": "stream",
          "name": "stdout",
          "text": [
            "----------------------------------------------------------------\n",
            "        Layer (type)               Output Shape         Param #\n",
            "================================================================\n",
            "            Conv2d-1            [-1, 6, 32, 32]             156\n",
            "            Conv2d-2           [-1, 16, 12, 12]           2,416\n",
            "            Conv2d-3            [-1, 120, 2, 2]          48,120\n",
            "            Linear-4                   [-1, 84]          10,164\n",
            "            Linear-5                   [-1, 10]             850\n",
            "================================================================\n",
            "Total params: 61,706\n",
            "Trainable params: 61,706\n",
            "Non-trainable params: 0\n",
            "----------------------------------------------------------------\n",
            "Input size (MB): 0.00\n",
            "Forward/backward pass size (MB): 0.07\n",
            "Params size (MB): 0.24\n",
            "Estimated Total Size (MB): 0.31\n",
            "----------------------------------------------------------------\n"
          ]
        }
      ]
    },
    {
      "cell_type": "code",
      "source": [
        "# Define cost function and optimizer\n",
        "criterion = nn.CrossEntropyLoss()\n",
        "optimizer = torch.optim.SGD(model.parameters(), lr=0.1)"
      ],
      "metadata": {
        "id": "AKcDAU3LYHud"
      },
      "execution_count": 23,
      "outputs": []
    },
    {
      "cell_type": "markdown",
      "source": [
        "## tensor size 확인"
      ],
      "metadata": {
        "id": "Bkcw46U7roB5"
      }
    },
    {
      "cell_type": "code",
      "source": [
        "for batch_idx, (image, label) in enumerate(train_loader):\n",
        "  break"
      ],
      "metadata": {
        "id": "f2i5zvjJ5_bG"
      },
      "execution_count": 24,
      "outputs": []
    },
    {
      "cell_type": "code",
      "source": [
        "image"
      ],
      "metadata": {
        "colab": {
          "base_uri": "https://localhost:8080/"
        },
        "id": "KVrgYRHu6Cr4",
        "outputId": "935e498b-bd2f-45b4-b9ea-cd09db9cd919"
      },
      "execution_count": 25,
      "outputs": [
        {
          "output_type": "execute_result",
          "data": {
            "text/plain": [
              "tensor([[0., 0., 0.,  ..., 0., 0., 0.],\n",
              "        [0., 0., 0.,  ..., 0., 0., 0.],\n",
              "        [0., 0., 0.,  ..., 0., 0., 0.],\n",
              "        ...,\n",
              "        [0., 0., 0.,  ..., 0., 0., 0.],\n",
              "        [0., 0., 0.,  ..., 0., 0., 0.],\n",
              "        [0., 0., 0.,  ..., 0., 0., 0.]])"
            ]
          },
          "metadata": {},
          "execution_count": 25
        }
      ]
    },
    {
      "cell_type": "code",
      "source": [
        "image.shape"
      ],
      "metadata": {
        "colab": {
          "base_uri": "https://localhost:8080/"
        },
        "id": "5F2s_jpD6EzF",
        "outputId": "7440df81-7808-4fbf-80eb-00f7f283cd9a"
      },
      "execution_count": 26,
      "outputs": [
        {
          "output_type": "execute_result",
          "data": {
            "text/plain": [
              "torch.Size([100, 784])"
            ]
          },
          "metadata": {},
          "execution_count": 26
        }
      ]
    },
    {
      "cell_type": "code",
      "source": [
        "image.size(0)"
      ],
      "metadata": {
        "colab": {
          "base_uri": "https://localhost:8080/"
        },
        "id": "FYwLuetldvGo",
        "outputId": "4c29e9fe-28de-43bf-d7ff-fe78591aef6f"
      },
      "execution_count": 27,
      "outputs": [
        {
          "output_type": "execute_result",
          "data": {
            "text/plain": [
              "100"
            ]
          },
          "metadata": {},
          "execution_count": 27
        }
      ]
    },
    {
      "cell_type": "code",
      "source": [
        "label"
      ],
      "metadata": {
        "colab": {
          "base_uri": "https://localhost:8080/"
        },
        "id": "Hb4ItbAj6-QN",
        "outputId": "6dcc1b54-a9c4-475e-f209-bc4b1a24e818"
      },
      "execution_count": 28,
      "outputs": [
        {
          "output_type": "execute_result",
          "data": {
            "text/plain": [
              "tensor([4, 4, 7, 2, 0, 1, 1, 4, 2, 6, 5, 4, 1, 7, 2, 9, 9, 8, 4, 0, 1, 1, 2, 2,\n",
              "        9, 8, 6, 8, 0, 1, 7, 1, 2, 5, 2, 4, 7, 8, 2, 7, 0, 4, 8, 0, 4, 8, 8, 0,\n",
              "        7, 7, 8, 8, 0, 5, 9, 3, 1, 3, 2, 2, 6, 9, 3, 3, 8, 1, 2, 8, 0, 7, 7, 8,\n",
              "        0, 0, 4, 4, 9, 8, 2, 8, 8, 8, 4, 0, 5, 7, 7, 0, 2, 9, 9, 4, 2, 5, 9, 8,\n",
              "        0, 1, 0, 2])"
            ]
          },
          "metadata": {},
          "execution_count": 28
        }
      ]
    },
    {
      "cell_type": "code",
      "source": [
        "label.size"
      ],
      "metadata": {
        "colab": {
          "base_uri": "https://localhost:8080/"
        },
        "id": "1qIPyNje6_mV",
        "outputId": "3cb1fb09-68cd-42ea-91ad-75cd4897eaff"
      },
      "execution_count": 29,
      "outputs": [
        {
          "output_type": "execute_result",
          "data": {
            "text/plain": [
              "<function Tensor.size>"
            ]
          },
          "metadata": {},
          "execution_count": 29
        }
      ]
    },
    {
      "cell_type": "code",
      "source": [
        "for epoch in range(epochs):\n",
        "    for i, (X, Y) in enumerate(train_loader):\n",
        "        X, Y = X.to(device), Y.to(device)\n",
        "        train = Variable(X.view(100,1,28,28))\n",
        "        labels = Variable(Y)"
      ],
      "metadata": {
        "id": "J-AEihPu9d_M"
      },
      "execution_count": 30,
      "outputs": []
    },
    {
      "cell_type": "code",
      "source": [
        "for batch_idx, (image, label) in enumerate(train_loader):\n",
        "  image, label = image.to(device), label.to(device)\n",
        "  image = Variable(image.view(100,1,28,28))\n",
        "  label = Variable(label)\n",
        "  break"
      ],
      "metadata": {
        "id": "qV6vXxFg9exs"
      },
      "execution_count": 31,
      "outputs": []
    },
    {
      "cell_type": "code",
      "source": [
        "image.shape"
      ],
      "metadata": {
        "colab": {
          "base_uri": "https://localhost:8080/"
        },
        "id": "xQoDslmi-Xfd",
        "outputId": "3b1b18fc-cc48-4446-d793-ce5684105a15"
      },
      "execution_count": 32,
      "outputs": [
        {
          "output_type": "execute_result",
          "data": {
            "text/plain": [
              "torch.Size([100, 1, 28, 28])"
            ]
          },
          "metadata": {},
          "execution_count": 32
        }
      ]
    },
    {
      "cell_type": "code",
      "source": [
        "label.size"
      ],
      "metadata": {
        "colab": {
          "base_uri": "https://localhost:8080/"
        },
        "id": "7jf3hpYV-XZ6",
        "outputId": "39777068-d498-4bfa-b714-408946be98cc"
      },
      "execution_count": 33,
      "outputs": [
        {
          "output_type": "execute_result",
          "data": {
            "text/plain": [
              "<function Tensor.size>"
            ]
          },
          "metadata": {},
          "execution_count": 33
        }
      ]
    },
    {
      "cell_type": "code",
      "source": [
        "steps = 0\n",
        "print_every = 50\n",
        "train_losses, test_losses = [], []"
      ],
      "metadata": {
        "id": "14U8U7r6KOhY"
      },
      "execution_count": 34,
      "outputs": []
    },
    {
      "cell_type": "markdown",
      "source": [
        "- (33600, 784) 인데 batch_size=100으로 해서 input이 [100, 784]가 된 것인가?\n",
        "- 이것을 3D or 4D 로 batched 해주는 방법 -> view"
      ],
      "metadata": {
        "id": "wqVSdX8E3B_r"
      }
    },
    {
      "cell_type": "markdown",
      "source": [
        "## Train & Evaluate"
      ],
      "metadata": {
        "id": "IuG7IJQcrumQ"
      }
    },
    {
      "cell_type": "code",
      "source": [
        "epochs = 30\n",
        "train_losses, val_losses = [], []"
      ],
      "metadata": {
        "id": "SBXVL6JRVBy_"
      },
      "execution_count": 35,
      "outputs": []
    },
    {
      "cell_type": "markdown",
      "source": [
        "- train loss와 val loss를 계산하는 방법\n",
        "- acc 를 계산하는 방법\n",
        "- validation 단계에서는 역전파를 수행하지 않음 -> 왜?"
      ],
      "metadata": {
        "id": "frFeGEDReKDg"
      }
    },
    {
      "cell_type": "code",
      "source": [
        "for epoch in range(epochs):\n",
        "\n",
        "    correct = 0\n",
        "\n",
        "    model.train()\n",
        "    \n",
        "    for batch_idx, (image, label) in enumerate(train_loader):\n",
        "\n",
        "      image, label = image.to(device), label.to(device)\n",
        "      image = Variable(image.view(100,1,28,28))\n",
        "      label = Variable(label)\n",
        "\n",
        "      optimizer.zero_grad()\n",
        "      output = model(image)\n",
        "      loss = criterion(output, label)\n",
        "      loss.backward()\n",
        "      optimizer.step()\n",
        "\n",
        "      # Total correct predictions\n",
        "      predicted = torch.max(output.data, 1)[1]\n",
        "      correct += (predicted == label).sum()\n",
        " \n",
        "    print(\"Epoch: {}/{}.. \".format(epoch+1, epochs),\n",
        "          \"Train Loss: {:.3f}.. \".format(loss.data),\n",
        "          \"Train acc: {:.3f}..\".format(float(correct*100) / float(batch_size*len(train_loader))))"
      ],
      "metadata": {
        "colab": {
          "base_uri": "https://localhost:8080/"
        },
        "id": "kTB0WRY6CwhJ",
        "outputId": "c29d3fda-50ef-498c-a58c-a6bd2ef3f505"
      },
      "execution_count": 36,
      "outputs": [
        {
          "output_type": "stream",
          "name": "stdout",
          "text": [
            "Epoch: 1/30..  Train Loss: 2.301..  Train acc: 10.375..\n",
            "Epoch: 2/30..  Train Loss: 2.302..  Train acc: 14.110..\n",
            "Epoch: 3/30..  Train Loss: 2.297..  Train acc: 17.982..\n",
            "Epoch: 4/30..  Train Loss: 1.816..  Train acc: 46.083..\n",
            "Epoch: 5/30..  Train Loss: 1.776..  Train acc: 68.738..\n",
            "Epoch: 6/30..  Train Loss: 1.713..  Train acc: 71.812..\n",
            "Epoch: 7/30..  Train Loss: 1.861..  Train acc: 73.432..\n",
            "Epoch: 8/30..  Train Loss: 1.656..  Train acc: 78.598..\n",
            "Epoch: 9/30..  Train Loss: 1.668..  Train acc: 81.280..\n",
            "Epoch: 10/30..  Train Loss: 1.716..  Train acc: 82.366..\n",
            "Epoch: 11/30..  Train Loss: 1.625..  Train acc: 83.503..\n",
            "Epoch: 12/30..  Train Loss: 1.636..  Train acc: 84.062..\n",
            "Epoch: 13/30..  Train Loss: 1.521..  Train acc: 88.074..\n",
            "Epoch: 14/30..  Train Loss: 1.539..  Train acc: 91.914..\n",
            "Epoch: 15/30..  Train Loss: 1.536..  Train acc: 92.554..\n",
            "Epoch: 16/30..  Train Loss: 1.520..  Train acc: 93.071..\n",
            "Epoch: 17/30..  Train Loss: 1.520..  Train acc: 93.417..\n",
            "Epoch: 18/30..  Train Loss: 1.540..  Train acc: 93.824..\n",
            "Epoch: 19/30..  Train Loss: 1.516..  Train acc: 94.101..\n",
            "Epoch: 20/30..  Train Loss: 1.565..  Train acc: 94.170..\n",
            "Epoch: 21/30..  Train Loss: 1.499..  Train acc: 94.324..\n",
            "Epoch: 22/30..  Train Loss: 1.526..  Train acc: 94.574..\n",
            "Epoch: 23/30..  Train Loss: 1.496..  Train acc: 94.792..\n",
            "Epoch: 24/30..  Train Loss: 1.502..  Train acc: 94.875..\n",
            "Epoch: 25/30..  Train Loss: 1.533..  Train acc: 94.938..\n",
            "Epoch: 26/30..  Train Loss: 1.512..  Train acc: 95.235..\n",
            "Epoch: 27/30..  Train Loss: 1.523..  Train acc: 95.235..\n",
            "Epoch: 28/30..  Train Loss: 1.490..  Train acc: 95.277..\n",
            "Epoch: 29/30..  Train Loss: 1.522..  Train acc: 95.497..\n",
            "Epoch: 30/30..  Train Loss: 1.519..  Train acc: 95.390..\n"
          ]
        }
      ]
    },
    {
      "cell_type": "code",
      "source": [
        "for epoch in range(epochs):\n",
        "\n",
        "    correct = 0\n",
        "    \n",
        "    model.eval()\n",
        "\n",
        "    for images, labels in val_loader:\n",
        "\n",
        "      images, labels = images.to(device), labels.to(device)\n",
        "      images = Variable(images.view(100,1,28,28))\n",
        "      labels = Variable(labels)\n",
        "\n",
        "      outputs = model(images)\n",
        "\n",
        "      v_loss = criterion(outputs, labels)\n",
        "\n",
        "      # Total correct predictions\n",
        "      predicted = torch.max(outputs.data, 1)[1]\n",
        "      correct += (predicted == labels).sum()\n",
        "\n",
        "    print(\"Epoch: {}/{}.. \".format(epoch+1, epochs),\n",
        "          \"Val Loss: {:.3f}.. \".format(v_loss.data),\n",
        "          \"Val acc: {:.3f}..\".format(float(correct*100) / float(batch_size*len(val_loader))))"
      ],
      "metadata": {
        "colab": {
          "base_uri": "https://localhost:8080/"
        },
        "id": "_rCxXSGSEpkp",
        "outputId": "c7fce8e5-f10c-4973-f94a-9d43135cc44c"
      },
      "execution_count": 37,
      "outputs": [
        {
          "output_type": "stream",
          "name": "stdout",
          "text": [
            "Epoch: 1/30..  Val Loss: 1.475..  Val acc: 97.071..\n",
            "Epoch: 2/30..  Val Loss: 1.473..  Val acc: 97.071..\n",
            "Epoch: 3/30..  Val Loss: 1.506..  Val acc: 97.071..\n",
            "Epoch: 4/30..  Val Loss: 1.491..  Val acc: 97.071..\n",
            "Epoch: 5/30..  Val Loss: 1.489..  Val acc: 97.071..\n",
            "Epoch: 6/30..  Val Loss: 1.462..  Val acc: 97.071..\n",
            "Epoch: 7/30..  Val Loss: 1.478..  Val acc: 97.071..\n",
            "Epoch: 8/30..  Val Loss: 1.491..  Val acc: 97.071..\n",
            "Epoch: 9/30..  Val Loss: 1.469..  Val acc: 97.071..\n",
            "Epoch: 10/30..  Val Loss: 1.482..  Val acc: 97.071..\n",
            "Epoch: 11/30..  Val Loss: 1.501..  Val acc: 97.071..\n",
            "Epoch: 12/30..  Val Loss: 1.515..  Val acc: 97.071..\n",
            "Epoch: 13/30..  Val Loss: 1.472..  Val acc: 97.071..\n",
            "Epoch: 14/30..  Val Loss: 1.487..  Val acc: 97.071..\n",
            "Epoch: 15/30..  Val Loss: 1.489..  Val acc: 97.071..\n",
            "Epoch: 16/30..  Val Loss: 1.482..  Val acc: 97.071..\n",
            "Epoch: 17/30..  Val Loss: 1.477..  Val acc: 97.071..\n",
            "Epoch: 18/30..  Val Loss: 1.541..  Val acc: 97.071..\n",
            "Epoch: 19/30..  Val Loss: 1.502..  Val acc: 97.071..\n",
            "Epoch: 20/30..  Val Loss: 1.508..  Val acc: 97.071..\n",
            "Epoch: 21/30..  Val Loss: 1.500..  Val acc: 97.071..\n",
            "Epoch: 22/30..  Val Loss: 1.486..  Val acc: 97.071..\n",
            "Epoch: 23/30..  Val Loss: 1.477..  Val acc: 97.071..\n",
            "Epoch: 24/30..  Val Loss: 1.489..  Val acc: 97.071..\n",
            "Epoch: 25/30..  Val Loss: 1.506..  Val acc: 97.071..\n",
            "Epoch: 26/30..  Val Loss: 1.471..  Val acc: 97.071..\n",
            "Epoch: 27/30..  Val Loss: 1.492..  Val acc: 97.071..\n",
            "Epoch: 28/30..  Val Loss: 1.461..  Val acc: 97.071..\n",
            "Epoch: 29/30..  Val Loss: 1.486..  Val acc: 97.071..\n",
            "Epoch: 30/30..  Val Loss: 1.476..  Val acc: 97.071..\n"
          ]
        }
      ]
    },
    {
      "cell_type": "markdown",
      "source": [
        "## Preparing Test Data for Prediction"
      ],
      "metadata": {
        "id": "ybSXHPrgbU5z"
      }
    },
    {
      "cell_type": "code",
      "source": [
        "final_test_np = test.values / 255\n",
        "test_tn = torch.from_numpy(final_test_np)"
      ],
      "metadata": {
        "id": "Iw3Ef2l1bUvS"
      },
      "execution_count": 38,
      "outputs": []
    },
    {
      "cell_type": "code",
      "source": [
        "final_test_np"
      ],
      "metadata": {
        "id": "IdmFEt8gbUsz",
        "colab": {
          "base_uri": "https://localhost:8080/"
        },
        "outputId": "f7245a94-78f7-4206-c30f-f441e9104b36"
      },
      "execution_count": 39,
      "outputs": [
        {
          "output_type": "execute_result",
          "data": {
            "text/plain": [
              "array([[0., 0., 0., ..., 0., 0., 0.],\n",
              "       [0., 0., 0., ..., 0., 0., 0.],\n",
              "       [0., 0., 0., ..., 0., 0., 0.],\n",
              "       ...,\n",
              "       [0., 0., 0., ..., 0., 0., 0.],\n",
              "       [0., 0., 0., ..., 0., 0., 0.],\n",
              "       [0., 0., 0., ..., 0., 0., 0.]], dtype=float32)"
            ]
          },
          "metadata": {},
          "execution_count": 39
        }
      ]
    },
    {
      "cell_type": "code",
      "source": [
        "test_tn"
      ],
      "metadata": {
        "id": "uqnTCcTZbUpv",
        "colab": {
          "base_uri": "https://localhost:8080/"
        },
        "outputId": "ad10fc7b-9d72-4260-e6ee-fc33f6f1ec30"
      },
      "execution_count": 40,
      "outputs": [
        {
          "output_type": "execute_result",
          "data": {
            "text/plain": [
              "tensor([[0., 0., 0.,  ..., 0., 0., 0.],\n",
              "        [0., 0., 0.,  ..., 0., 0., 0.],\n",
              "        [0., 0., 0.,  ..., 0., 0., 0.],\n",
              "        ...,\n",
              "        [0., 0., 0.,  ..., 0., 0., 0.],\n",
              "        [0., 0., 0.,  ..., 0., 0., 0.],\n",
              "        [0., 0., 0.,  ..., 0., 0., 0.]])"
            ]
          },
          "metadata": {},
          "execution_count": 40
        }
      ]
    },
    {
      "cell_type": "code",
      "source": [
        "print(final_test_np.shape)\n",
        "print(test_tn.shape)"
      ],
      "metadata": {
        "colab": {
          "base_uri": "https://localhost:8080/"
        },
        "id": "IONcCs3ctGPY",
        "outputId": "eb2829e1-1cfa-427a-9bf1-609587a318f7"
      },
      "execution_count": 41,
      "outputs": [
        {
          "output_type": "stream",
          "name": "stdout",
          "text": [
            "(28000, 784)\n",
            "torch.Size([28000, 784])\n"
          ]
        }
      ]
    },
    {
      "cell_type": "code",
      "source": [
        "print(type(final_test_np))\n",
        "print(type(test_tn))"
      ],
      "metadata": {
        "colab": {
          "base_uri": "https://localhost:8080/"
        },
        "id": "sezrAsgztIKA",
        "outputId": "f6dd6d5d-fe89-4a13-ef84-ae263b2d6e75"
      },
      "execution_count": 42,
      "outputs": [
        {
          "output_type": "stream",
          "name": "stdout",
          "text": [
            "<class 'numpy.ndarray'>\n",
            "<class 'torch.Tensor'>\n"
          ]
        }
      ]
    },
    {
      "cell_type": "code",
      "source": [
        "sample_sub = pd.read_csv(\"/content/drive/MyDrive/kaggle/MNIST/sample_submission.csv\")"
      ],
      "metadata": {
        "id": "VtNdhwwitVvY"
      },
      "execution_count": 43,
      "outputs": []
    },
    {
      "cell_type": "code",
      "source": [
        "sample_sub.head()"
      ],
      "metadata": {
        "colab": {
          "base_uri": "https://localhost:8080/",
          "height": 206
        },
        "id": "lNhv-hf9uXW3",
        "outputId": "a1f40939-c2b4-42eb-aebc-da654c20421c"
      },
      "execution_count": 44,
      "outputs": [
        {
          "output_type": "execute_result",
          "data": {
            "text/plain": [
              "   ImageId  Label\n",
              "0        1      0\n",
              "1        2      0\n",
              "2        3      0\n",
              "3        4      0\n",
              "4        5      0"
            ],
            "text/html": [
              "\n",
              "  <div id=\"df-a98b75d9-8521-4039-820b-c890dead8e63\">\n",
              "    <div class=\"colab-df-container\">\n",
              "      <div>\n",
              "<style scoped>\n",
              "    .dataframe tbody tr th:only-of-type {\n",
              "        vertical-align: middle;\n",
              "    }\n",
              "\n",
              "    .dataframe tbody tr th {\n",
              "        vertical-align: top;\n",
              "    }\n",
              "\n",
              "    .dataframe thead th {\n",
              "        text-align: right;\n",
              "    }\n",
              "</style>\n",
              "<table border=\"1\" class=\"dataframe\">\n",
              "  <thead>\n",
              "    <tr style=\"text-align: right;\">\n",
              "      <th></th>\n",
              "      <th>ImageId</th>\n",
              "      <th>Label</th>\n",
              "    </tr>\n",
              "  </thead>\n",
              "  <tbody>\n",
              "    <tr>\n",
              "      <th>0</th>\n",
              "      <td>1</td>\n",
              "      <td>0</td>\n",
              "    </tr>\n",
              "    <tr>\n",
              "      <th>1</th>\n",
              "      <td>2</td>\n",
              "      <td>0</td>\n",
              "    </tr>\n",
              "    <tr>\n",
              "      <th>2</th>\n",
              "      <td>3</td>\n",
              "      <td>0</td>\n",
              "    </tr>\n",
              "    <tr>\n",
              "      <th>3</th>\n",
              "      <td>4</td>\n",
              "      <td>0</td>\n",
              "    </tr>\n",
              "    <tr>\n",
              "      <th>4</th>\n",
              "      <td>5</td>\n",
              "      <td>0</td>\n",
              "    </tr>\n",
              "  </tbody>\n",
              "</table>\n",
              "</div>\n",
              "      <button class=\"colab-df-convert\" onclick=\"convertToInteractive('df-a98b75d9-8521-4039-820b-c890dead8e63')\"\n",
              "              title=\"Convert this dataframe to an interactive table.\"\n",
              "              style=\"display:none;\">\n",
              "        \n",
              "  <svg xmlns=\"http://www.w3.org/2000/svg\" height=\"24px\"viewBox=\"0 0 24 24\"\n",
              "       width=\"24px\">\n",
              "    <path d=\"M0 0h24v24H0V0z\" fill=\"none\"/>\n",
              "    <path d=\"M18.56 5.44l.94 2.06.94-2.06 2.06-.94-2.06-.94-.94-2.06-.94 2.06-2.06.94zm-11 1L8.5 8.5l.94-2.06 2.06-.94-2.06-.94L8.5 2.5l-.94 2.06-2.06.94zm10 10l.94 2.06.94-2.06 2.06-.94-2.06-.94-.94-2.06-.94 2.06-2.06.94z\"/><path d=\"M17.41 7.96l-1.37-1.37c-.4-.4-.92-.59-1.43-.59-.52 0-1.04.2-1.43.59L10.3 9.45l-7.72 7.72c-.78.78-.78 2.05 0 2.83L4 21.41c.39.39.9.59 1.41.59.51 0 1.02-.2 1.41-.59l7.78-7.78 2.81-2.81c.8-.78.8-2.07 0-2.86zM5.41 20L4 18.59l7.72-7.72 1.47 1.35L5.41 20z\"/>\n",
              "  </svg>\n",
              "      </button>\n",
              "      \n",
              "  <style>\n",
              "    .colab-df-container {\n",
              "      display:flex;\n",
              "      flex-wrap:wrap;\n",
              "      gap: 12px;\n",
              "    }\n",
              "\n",
              "    .colab-df-convert {\n",
              "      background-color: #E8F0FE;\n",
              "      border: none;\n",
              "      border-radius: 50%;\n",
              "      cursor: pointer;\n",
              "      display: none;\n",
              "      fill: #1967D2;\n",
              "      height: 32px;\n",
              "      padding: 0 0 0 0;\n",
              "      width: 32px;\n",
              "    }\n",
              "\n",
              "    .colab-df-convert:hover {\n",
              "      background-color: #E2EBFA;\n",
              "      box-shadow: 0px 1px 2px rgba(60, 64, 67, 0.3), 0px 1px 3px 1px rgba(60, 64, 67, 0.15);\n",
              "      fill: #174EA6;\n",
              "    }\n",
              "\n",
              "    [theme=dark] .colab-df-convert {\n",
              "      background-color: #3B4455;\n",
              "      fill: #D2E3FC;\n",
              "    }\n",
              "\n",
              "    [theme=dark] .colab-df-convert:hover {\n",
              "      background-color: #434B5C;\n",
              "      box-shadow: 0px 1px 3px 1px rgba(0, 0, 0, 0.15);\n",
              "      filter: drop-shadow(0px 1px 2px rgba(0, 0, 0, 0.3));\n",
              "      fill: #FFFFFF;\n",
              "    }\n",
              "  </style>\n",
              "\n",
              "      <script>\n",
              "        const buttonEl =\n",
              "          document.querySelector('#df-a98b75d9-8521-4039-820b-c890dead8e63 button.colab-df-convert');\n",
              "        buttonEl.style.display =\n",
              "          google.colab.kernel.accessAllowed ? 'block' : 'none';\n",
              "\n",
              "        async function convertToInteractive(key) {\n",
              "          const element = document.querySelector('#df-a98b75d9-8521-4039-820b-c890dead8e63');\n",
              "          const dataTable =\n",
              "            await google.colab.kernel.invokeFunction('convertToInteractive',\n",
              "                                                     [key], {});\n",
              "          if (!dataTable) return;\n",
              "\n",
              "          const docLinkHtml = 'Like what you see? Visit the ' +\n",
              "            '<a target=\"_blank\" href=https://colab.research.google.com/notebooks/data_table.ipynb>data table notebook</a>'\n",
              "            + ' to learn more about interactive tables.';\n",
              "          element.innerHTML = '';\n",
              "          dataTable['output_type'] = 'display_data';\n",
              "          await google.colab.output.renderOutput(dataTable, element);\n",
              "          const docLink = document.createElement('div');\n",
              "          docLink.innerHTML = docLinkHtml;\n",
              "          element.appendChild(docLink);\n",
              "        }\n",
              "      </script>\n",
              "    </div>\n",
              "  </div>\n",
              "  "
            ]
          },
          "metadata": {},
          "execution_count": 44
        }
      ]
    },
    {
      "cell_type": "code",
      "source": [
        "fake_labels = np.zeros(final_test_np.shape)\n",
        "fake_labels = torch.from_numpy(fake_labels)"
      ],
      "metadata": {
        "id": "bzy5nk36uqnQ"
      },
      "execution_count": 45,
      "outputs": []
    },
    {
      "cell_type": "code",
      "source": [
        "submission_tn_data = torch.utils.data.TensorDataset(test_tn, fake_labels)\n",
        "\n",
        "submission_loader = DataLoader(submission_tn_data,\n",
        "                                                batch_size = batch_size, \n",
        "                                                shuffle = True)"
      ],
      "metadata": {
        "id": "1JKQ91k4ucwI"
      },
      "execution_count": 46,
      "outputs": []
    },
    {
      "cell_type": "code",
      "source": [
        "# Making it submission ready\n",
        "submission = [['ImageId', 'Label']]\n",
        "\n",
        "# Turn off gradients for validation\n",
        "with torch.no_grad():\n",
        "    model.eval()\n",
        "    image_id = 1\n",
        "    \n",
        "    for images, _ in submission_loader:\n",
        "        images = Variable(images.view(100,1,28,28))\n",
        "        log_ps = model(images)\n",
        "        ps = torch.exp(log_ps)\n",
        "        top_p, top_class = ps.topk(1, dim=1)\n",
        "        \n",
        "        for prediction in top_class:\n",
        "            submission.append([image_id, prediction.item()])\n",
        "            image_id += 1"
      ],
      "metadata": {
        "id": "W8FwErfPv_v8"
      },
      "execution_count": 47,
      "outputs": []
    },
    {
      "cell_type": "code",
      "source": [
        "# Making it submission ready\n",
        "submission = [['ImageId', 'Label']]\n",
        "\n",
        "# Turn off gradients for validation\n",
        "with torch.no_grad():\n",
        "    model.eval()\n",
        "    image_id = 1\n",
        "    \n",
        "    for images, _ in submission_loader:\n",
        "        images = Variable(images.view(100,1,28,28))\n",
        "\n",
        "        ps = model(images)\n",
        "        predictions = torch.argmax(ps, 1)\n",
        "        \n",
        "        for prediction in predictions:\n",
        "            submission.append([image_id, prediction.item()])\n",
        "            image_id += 1"
      ],
      "metadata": {
        "id": "LCJZrXfKzZ2Z"
      },
      "execution_count": 48,
      "outputs": []
    },
    {
      "cell_type": "code",
      "source": [
        "predictions"
      ],
      "metadata": {
        "colab": {
          "base_uri": "https://localhost:8080/"
        },
        "id": "MNho8o9DzrLT",
        "outputId": "b82868a8-8f75-41d9-b23f-ee6b45d788f4"
      },
      "execution_count": 49,
      "outputs": [
        {
          "output_type": "execute_result",
          "data": {
            "text/plain": [
              "tensor([9, 0, 6, 2, 0, 3, 1, 3, 8, 6, 2, 4, 1, 1, 4, 9, 3, 5, 6, 2, 1, 6, 9, 3,\n",
              "        8, 2, 6, 3, 0, 0, 6, 9, 4, 1, 5, 8, 3, 4, 0, 0, 1, 5, 0, 5, 1, 5, 4, 8,\n",
              "        8, 2, 0, 4, 8, 4, 7, 8, 0, 0, 2, 5, 8, 6, 9, 3, 0, 7, 8, 5, 1, 4, 6, 9,\n",
              "        4, 1, 7, 7, 4, 6, 8, 3, 1, 4, 9, 2, 2, 0, 1, 0, 5, 1, 6, 8, 5, 1, 5, 7,\n",
              "        7, 6, 2, 2])"
            ]
          },
          "metadata": {},
          "execution_count": 49
        }
      ]
    },
    {
      "cell_type": "code",
      "source": [
        "submission_df = pd.DataFrame(submission)\n",
        "submission_df.columns = submission_df.iloc[0]\n",
        "submission_df = submission_df.drop(0, axis=0)"
      ],
      "metadata": {
        "id": "UqZ-B7NZvFhA"
      },
      "execution_count": 50,
      "outputs": []
    },
    {
      "cell_type": "code",
      "source": [
        "submission_df.to_csv(\"/content/drive/MyDrive/kaggle/MNIST/submission.csv\", index=False)"
      ],
      "metadata": {
        "id": "oL0wdv3VwKX1"
      },
      "execution_count": 51,
      "outputs": []
    },
    {
      "cell_type": "code",
      "source": [
        "submission_df['Label'].value_counts()"
      ],
      "metadata": {
        "colab": {
          "base_uri": "https://localhost:8080/"
        },
        "id": "MtQqcTs8N_me",
        "outputId": "e0b2c2c5-0a13-4652-c83b-c1e4a928d8b8"
      },
      "execution_count": 54,
      "outputs": [
        {
          "output_type": "execute_result",
          "data": {
            "text/plain": [
              "1    3230\n",
              "7    2928\n",
              "2    2800\n",
              "6    2770\n",
              "0    2770\n",
              "4    2764\n",
              "9    2760\n",
              "3    2749\n",
              "8    2721\n",
              "5    2508\n",
              "Name: Label, dtype: int64"
            ]
          },
          "metadata": {},
          "execution_count": 54
        }
      ]
    },
    {
      "cell_type": "markdown",
      "source": [
        "![image.png](data:image/png;base64,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)"
      ],
      "metadata": {
        "id": "EKF90vE3OptW"
      }
    },
    {
      "cell_type": "markdown",
      "source": [
        "**기존 문제점**\n",
        "\n",
        "- loss 값이 떨어지고 있으나 여전히 높다(잘 되는지 모르겠음)\n",
        "- accuracy는 계속 높아짐\n",
        "    \n",
        "    → 이거 완전 **overfitting**이 아닌지?…\n",
        "    \n",
        "</br>\n",
        "\n",
        "**시도한 점**\n",
        "\n",
        "- activation function 변경: `tanh` → `relu`\n",
        "- model 변경: dropout 넣음\n",
        "    - 변경 코드 & 결과\n",
        "        \n",
        "```python\n",
        "class LeNet(nn.Module):\n",
        "  def __init__(self, num_classes):\n",
        "    super(LeNet, self).__init__()\n",
        "\n",
        "    # C1 (1,6,5)\n",
        "    self.conv1 = nn.Conv2d(in_channels=1, out_channels=6, kernel_size=5, stride=1, padding=2)\n",
        "    \n",
        "\n",
        "    # C2 (6, 16, 5)\n",
        "    self.conv2 = nn.Conv2d(in_channels=6, out_channels=16, kernel_size=5, stride=1, padding=0)\n",
        "    \n",
        "    # C3 (16, 120, 5)\n",
        "    self.conv3 = nn.Conv2d(in_channels=16, out_channels=120, kernel_size=5, stride=1, padding=0)\n",
        "    \n",
        "    # fc\n",
        "    self.fc1 = nn.Linear(120, 84)\n",
        "    self.fc2 = nn.Linear(84, 10)\n",
        "\n",
        "    # Connect layers, define activation function\n",
        "  def forward(self, x):\n",
        "     # Max pooling over a (2, 2) window\n",
        "     x = F.relu(self.conv1(x))\n",
        "     x = F.avg_pool2d(x, 2)\n",
        "\n",
        "     x = F.relu(self.conv2(x))\n",
        "     x = F.dropout(x, p=0.5, training=self.training)\n",
        "     x = F.avg_pool2d(x, 2)\n",
        "\n",
        "     x = F.relu(self.conv3(x))\n",
        "     x = F.dropout(x, p=0.5, training=self.training)\n",
        "     x = x.view(-1, 120)\n",
        "\n",
        "     x = F.relu(self.fc1(x))\n",
        "     x = self.fc2(x)\n",
        "\n",
        "     return F.softmax(x, dim=1)\n",
        "```\n",
        "        \n",
        "- epoch 15 → 30\n",
        "    - `train` : 조금씩 꾸준히 오르고 있음. 하지만 training data로 판단 불가.\n",
        "    - `val` : val accuracy는 저번부터 계속 같은 수치…\n",
        "\n",
        "\n",
        "</br>\n",
        "\n",
        "**시도할 수 있는 점**\n",
        "- cost function 변경 (SGD → Adam)\n",
        "  - 원인이 아닌 것 같아서 굳이 하지 않았음"
      ],
      "metadata": {
        "id": "bDwR4H8xO_ih"
      }
    }
  ]
}